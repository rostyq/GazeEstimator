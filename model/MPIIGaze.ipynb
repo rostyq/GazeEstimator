{
 "cells": [
  {
   "cell_type": "code",
   "execution_count": 1,
   "metadata": {},
   "outputs": [
    {
     "name": "stderr",
     "output_type": "stream",
     "text": [
      "Using TensorFlow backend.\n"
     ]
    }
   ],
   "source": [
    "from scipy.io import loadmat\n",
    "import numpy as np\n",
    "import pandas as pd\n",
    "from PIL import Image\n",
    "import glob\n",
    "from utils import *\n",
    "from tqdm import tqdm\n",
    "from sklearn.model_selection import train_test_split\n",
    "import imp"
   ]
  },
  {
   "cell_type": "code",
   "execution_count": 3,
   "metadata": {},
   "outputs": [],
   "source": [
    "import utils\n",
    "imp.reload(utils)\n",
    "from utils import *"
   ]
  },
  {
   "cell_type": "markdown",
   "metadata": {},
   "source": [
    "If there is no dataset and utils:"
   ]
  },
  {
   "cell_type": "code",
   "execution_count": null,
   "metadata": {},
   "outputs": [],
   "source": [
    "!wget https://raw.githubusercontent.com/rostyslavb/GazeEstimator/master/model/utils.py\n",
    "!wget http://datasets.d2.mpi-inf.mpg.de/MPIIGaze/MPIIGaze.tar.gz\n",
    "!tar -xzf MPIIGaze.tar.gz"
   ]
  },
  {
   "cell_type": "markdown",
   "metadata": {},
   "source": [
    "## Prepare data"
   ]
  },
  {
   "cell_type": "markdown",
   "metadata": {},
   "source": [
    "### Gather Data from Structure"
   ]
  },
  {
   "cell_type": "code",
   "execution_count": 2,
   "metadata": {},
   "outputs": [
    {
     "name": "stderr",
     "output_type": "stream",
     "text": [
      "100%|██████████| 521/521 [00:14<00:00, 36.22it/s]\n"
     ]
    }
   ],
   "source": [
    "index, image, pose, gaze = gather_all_data('./MPIIGaze/Data/Normalized')"
   ]
  },
  {
   "cell_type": "code",
   "execution_count": 3,
   "metadata": {},
   "outputs": [],
   "source": [
    "image = image / 255\n",
    "gaze = gaze3Dto2D(gaze)\n",
    "pose = pose3Dto2D(pose)"
   ]
  },
  {
   "cell_type": "code",
   "execution_count": 4,
   "metadata": {},
   "outputs": [
    {
     "name": "stdout",
     "output_type": "stream",
     "text": [
      "Indices:       (427316, 4)\n",
      "Images:        (427316, 36, 60, 1)\n",
      "Poses:         (427316, 2)\n",
      "Gazes:         (427316, 2)\n"
     ]
    }
   ],
   "source": [
    "def print_shapes(titles, items):\n",
    "    for title, item in zip(titles, items):\n",
    "        print((title+':').ljust(15) + str(item.shape))\n",
    "\n",
    "print_shapes(['Indices', 'Images', 'Poses', 'Gazes'], (index, image, pose, gaze))"
   ]
  },
  {
   "cell_type": "markdown",
   "metadata": {},
   "source": [
    "### Train/test split"
   ]
  },
  {
   "cell_type": "code",
   "execution_count": 5,
   "metadata": {},
   "outputs": [],
   "source": [
    "random_state = 42\n",
    "index_train, index_test = train_test_split(pd.DataFrame(index),\n",
    "                                            stratify=index[:, [0, -1]],\n",
    "                                            test_size=0.2,\n",
    "                                            random_state=random_state)\n",
    "\n",
    "index_train = index_train.index\n",
    "index_test = index_test.index"
   ]
  },
  {
   "cell_type": "markdown",
   "metadata": {},
   "source": [
    "**Train:**"
   ]
  },
  {
   "cell_type": "code",
   "execution_count": 6,
   "metadata": {},
   "outputs": [
    {
     "name": "stdout",
     "output_type": "stream",
     "text": [
      "Indices:       (341852,)\n"
     ]
    }
   ],
   "source": [
    "print_shapes(['Indices',], (index_train,))"
   ]
  },
  {
   "cell_type": "markdown",
   "metadata": {},
   "source": [
    "**Test:**"
   ]
  },
  {
   "cell_type": "code",
   "execution_count": 7,
   "metadata": {},
   "outputs": [
    {
     "name": "stdout",
     "output_type": "stream",
     "text": [
      "Indices:       (85464,)\n"
     ]
    }
   ],
   "source": [
    "print_shapes(['Indices',], (index_test,))"
   ]
  },
  {
   "cell_type": "markdown",
   "metadata": {},
   "source": [
    "## Create NN"
   ]
  },
  {
   "cell_type": "code",
   "execution_count": 8,
   "metadata": {},
   "outputs": [
    {
     "name": "stderr",
     "output_type": "stream",
     "text": [
      "Using TensorFlow backend.\n"
     ]
    }
   ],
   "source": [
    "from keras.layers import Input, Conv2D, MaxPool2D, Dense, Concatenate, Flatten, Dropout\n",
    "from keras.initializers import RandomNormal, glorot_normal, glorot_uniform\n",
    "from keras.models import Model\n",
    "from keras import backend as K\n",
    "from keras.callbacks import TensorBoard\n",
    "from keras.optimizers import Adam\n",
    "from keras.models import Model\n",
    "\n",
    "import tensorflow as tf"
   ]
  },
  {
   "cell_type": "markdown",
   "metadata": {},
   "source": [
    "### Model"
   ]
  },
  {
   "cell_type": "code",
   "execution_count": 25,
   "metadata": {},
   "outputs": [],
   "source": [
    "with tf.Graph().as_default():\n",
    "    \n",
    "    ### LAYERS ###\n",
    "\n",
    "    # input\n",
    "    input_img = Input(shape=(36, 60, 1), name='InputNormalizedImage')\n",
    "    input_pose = Input(shape=(2,), name='InputHeadPose')\n",
    "\n",
    "    # convolutional\n",
    "    conv1 = Conv2D(filters=20,\n",
    "                   kernel_size=(5, 5),\n",
    "                   strides=(1, 1),\n",
    "                   kernel_initializer=RandomNormal(mean=0.0, stddev=0.01, seed=42),\n",
    "                   bias_initializer='zeros',\n",
    "                   name='conv1'\n",
    "                  )(input_img)\n",
    "    pool1 = MaxPool2D(pool_size=(2, 2),\n",
    "                      strides=(2, 2),\n",
    "                      padding='valid',\n",
    "                      name='maxpool1'\n",
    "                     )(conv1)\n",
    "    conv2 = Conv2D(filters=50,\n",
    "                   kernel_size=(5, 5),\n",
    "                   strides=(1, 1),\n",
    "                   kernel_initializer=RandomNormal(mean=0.0, stddev=0.001, seed=42),\n",
    "                   bias_initializer='zeros',\n",
    "                   name='conv2'\n",
    "                  )(pool1)\n",
    "    pool2 = MaxPool2D(pool_size=(2, 2),\n",
    "                      strides=(2, 2),\n",
    "                      padding='valid',\n",
    "                      name='maxpool2'\n",
    "                     )(conv2)\n",
    "\n",
    "    flatt = Flatten(name='flatt')(pool2)\n",
    "\n",
    "    # inner product 1\n",
    "    dense1 = Dense(units=500,\n",
    "                  activation='relu',\n",
    "                  kernel_initializer=glorot_normal(seed=42),\n",
    "                  bias_initializer='zeros',\n",
    "                  name='ip1'\n",
    "                 )(flatt)\n",
    "\n",
    "    dropout = Dropout(rate=0.1)(dense1)\n",
    "\n",
    "    # concatanate with head pose\n",
    "    cat = Concatenate(axis=-1, name='concat')([dropout, input_pose])\n",
    "\n",
    "    # inner product 2\n",
    "    dense2 = Dense(units=2,\n",
    "                  kernel_initializer=glorot_normal(seed=42),\n",
    "                  bias_initializer='zeros',\n",
    "                  name='ip2'\n",
    "                 )(cat)\n",
    "    \n",
    "    ### OPTIMIZER ###\n",
    "    adam = Adam(lr=1e-3)\n",
    "    \n",
    "    ### CALLBACKS ###\n",
    "    tbCallBack = TensorBoard(log_dir='./log',\n",
    "                         histogram_freq=0,\n",
    "                         write_graph=True,\n",
    "                         write_images=True)\n",
    "    \n",
    "    ### COMPILE MODEL ###\n",
    "    model = Model([input_img, input_pose], dense2)\n",
    "    model.compile(optimizer=adam, loss='mse', metrics=[angle_accuracy])"
   ]
  },
  {
   "cell_type": "markdown",
   "metadata": {},
   "source": [
    "### Train"
   ]
  },
  {
   "cell_type": "code",
   "execution_count": null,
   "metadata": {},
   "outputs": [],
   "source": [
    "with tf.Graph().as_default():\n",
    "    model.fit(x=[image[index_train], pose[index_train]], y=gaze[index_train],\n",
    "              batch_size=500,\n",
    "              verbose=1,\n",
    "              epochs=1000,\n",
    "              validation_data=([image[index_test], pose[index_test]], gaze[index_test]),\n",
    "              callbacks=[tbCallBack])"
   ]
  },
  {
   "cell_type": "code",
   "execution_count": null,
   "metadata": {},
   "outputs": [],
   "source": []
  }
 ],
 "metadata": {
  "hide_input": false,
  "kernelspec": {
   "display_name": "Python 3",
   "language": "python",
   "name": "python3"
  },
  "language_info": {
   "codemirror_mode": {
    "name": "ipython",
    "version": 3
   },
   "file_extension": ".py",
   "mimetype": "text/x-python",
   "name": "python",
   "nbconvert_exporter": "python",
   "pygments_lexer": "ipython3",
   "version": "3.6.3"
  }
 },
 "nbformat": 4,
 "nbformat_minor": 2
}

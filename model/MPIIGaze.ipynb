{
 "cells": [
  {
   "cell_type": "code",
   "execution_count": 9,
   "metadata": {},
   "outputs": [],
   "source": [
    "from scipy.io import loadmat\n",
    "import numpy as np\n",
    "import pandas as pd\n",
    "from PIL import Image\n",
    "import glob\n",
    "from utils import *\n",
    "from tqdm import tqdm\n",
    "from sklearn.model_selection import train_test_split"
   ]
  },
  {
   "cell_type": "markdown",
   "metadata": {},
   "source": [
    "If there is no dataset and utils:"
   ]
  },
  {
   "cell_type": "code",
   "execution_count": null,
   "metadata": {},
   "outputs": [],
   "source": [
    "!wget https://raw.githubusercontent.com/rostyslavb/GazeEstimator/master/model/utils.py\n",
    "!wget http://datasets.d2.mpi-inf.mpg.de/MPIIGaze/MPIIGaze.tar.gz\n",
    "!tar -xzfv MPIIGaze.tar.gz"
   ]
  },
  {
   "cell_type": "markdown",
   "metadata": {},
   "source": [
    "## Prepare data"
   ]
  },
  {
   "cell_type": "markdown",
   "metadata": {},
   "source": [
    "### Gather Data from Structure"
   ]
  },
  {
   "cell_type": "code",
   "execution_count": 10,
   "metadata": {},
   "outputs": [
    {
     "name": "stderr",
     "output_type": "stream",
     "text": [
      "100%|██████████| 521/521 [00:15<00:00, 34.21it/s]\n"
     ]
    }
   ],
   "source": [
    "index, image, pose, gaze = gather_all_data('./MPIIGaze/Data/Normalized')"
   ]
  },
  {
   "cell_type": "code",
   "execution_count": 45,
   "metadata": {},
   "outputs": [],
   "source": [
    "gaze = gaze3Dto2D(gaze)\n",
    "pose = pose3Dto2D(pose)"
   ]
  },
  {
   "cell_type": "code",
   "execution_count": 46,
   "metadata": {},
   "outputs": [
    {
     "name": "stdout",
     "output_type": "stream",
     "text": [
      "Indices:       (427316, 4)\n",
      "Images:        (427316, 36, 60, 1)\n",
      "Poses:         (427316, 2)\n",
      "Gazes:         (427316, 2)\n"
     ]
    }
   ],
   "source": [
    "def print_shapes(titles, items):\n",
    "    for title, item in zip(titles, items):\n",
    "        print((title+':').ljust(15) + str(item.shape))\n",
    "\n",
    "print_shapes(['Indices', 'Images', 'Poses', 'Gazes'], (index, image, pose, gaze))"
   ]
  },
  {
   "cell_type": "markdown",
   "metadata": {},
   "source": [
    "### Train/test split"
   ]
  },
  {
   "cell_type": "markdown",
   "metadata": {},
   "source": [
    "Train/test split stratified by particapants and eyes (left, right)."
   ]
  },
  {
   "cell_type": "code",
   "execution_count": 47,
   "metadata": {},
   "outputs": [],
   "source": [
    "random_state = 42\n",
    "index_train, index_test = train_test_split(pd.DataFrame(index),\n",
    "                                           stratify=index[:, [0, -1]],\n",
    "                                           test_size=0.2,\n",
    "                                           random_state=random_state)\n",
    "\n",
    "index_train = index_train.index\n",
    "index_test = index_test.index"
   ]
  },
  {
   "cell_type": "markdown",
   "metadata": {},
   "source": [
    "**Train:**"
   ]
  },
  {
   "cell_type": "code",
   "execution_count": 48,
   "metadata": {},
   "outputs": [
    {
     "name": "stdout",
     "output_type": "stream",
     "text": [
      "Indices:       (341852, 4)\n",
      "Images:        (341852, 36, 60, 1)\n",
      "Poses:         (341852, 2)\n",
      "Gazes:         (341852, 2)\n"
     ]
    }
   ],
   "source": [
    "print_shapes(['Indices', 'Images', 'Poses', 'Gazes'],\n",
    "             (index[index_train], image[index_train], pose[index_train], gaze[index_train]))"
   ]
  },
  {
   "cell_type": "markdown",
   "metadata": {},
   "source": [
    "**Test:**"
   ]
  },
  {
   "cell_type": "code",
   "execution_count": 49,
   "metadata": {},
   "outputs": [
    {
     "name": "stdout",
     "output_type": "stream",
     "text": [
      "Indices:       (85464, 4)\n",
      "Images:        (85464, 36, 60, 1)\n",
      "Poses:         (85464, 2)\n",
      "Gazes:         (85464, 2)\n"
     ]
    }
   ],
   "source": [
    "print_shapes(['Indices', 'Images', 'Poses', 'Gazes'],\n",
    "             (index[index_test], image[index_test], pose[index_test], gaze[index_test]))"
   ]
  },
  {
   "cell_type": "markdown",
   "metadata": {},
   "source": [
    "## Create NN"
   ]
  },
  {
   "cell_type": "code",
   "execution_count": 6,
   "metadata": {},
   "outputs": [],
   "source": [
    "from keras.layers import Input, Conv2D, MaxPool2D, Dense, Concatenate, Flatten, Dropout\n",
    "from keras.initializers import RandomNormal, glorot_normal\n",
    "from keras.models import Model\n",
    "from keras import backend as K\n",
    "from keras.callbacks import TensorBoard, ModelCheckpoint, EarlyStopping, ReduceLROnPlateau\n",
    "from keras.optimizers import Adam\n",
    "from keras.models import Model\n",
    "\n",
    "import tensorflow as tf"
   ]
  },
  {
   "cell_type": "markdown",
   "metadata": {},
   "source": [
    "### Model"
   ]
  },
  {
   "cell_type": "code",
   "execution_count": 2,
   "metadata": {},
   "outputs": [],
   "source": [
    "def calc_angle(vector1, vector2):\n",
    "    \n",
    "    def to_vector(array):\n",
    "\n",
    "        x = (-1)*K.cos(array[:, 0]) * K.sin(array[:, 1])\n",
    "        y = (-1)*K.sin(array[:, 0])\n",
    "        z = (-1)*K.cos(array[:, 0]) * K.cos(array[:, 1])\n",
    "\n",
    "        return tf.stack((x, y, z), axis=1)\n",
    "\n",
    "    def calc_norm(array):\n",
    "        return tf.norm(array, axis=1)\n",
    "    \n",
    "    v1, v2 = to_vector(vector1), to_vector(vector2)\n",
    "    norm1, norm2 = calc_norm(vector1), calc_norm(vector2)\n",
    "\n",
    "    angle_value = tf.divide(tf.reduce_sum(tf.multiply(v1, v2), axis=1),\n",
    "                            tf.multiply(norm1, norm2))\n",
    "    \n",
    "    return tf.where(tf.abs(angle_value) >= 1.0, tf.pow(angle_value, -1), angle_value)\n",
    "\n",
    "def angle_loss(target, predicted):\n",
    "    return K.mean(1 - calc_angle(target, predicted))\n",
    "\n",
    "def angle_accuracy(target, predicted):\n",
    "    return K.mean(tf.acos(calc_angle(target, predicted)) * 180 / 3.14159265)\n"
   ]
  },
  {
   "cell_type": "code",
   "execution_count": 72,
   "metadata": {},
   "outputs": [],
   "source": [
    "### LAYERS ###\n",
    "\n",
    "# input\n",
    "input_img = Input(shape=(36, 60, 1), name='InputNormalizedImage')\n",
    "input_pose = Input(shape=(2,), name='InputHeadPose')\n",
    "\n",
    "# convolutional\n",
    "conv1 = Conv2D(filters=20,\n",
    "               kernel_size=(5, 5),\n",
    "               strides=(1, 1),\n",
    "               kernel_initializer=RandomNormal(mean=0.0, stddev=0.01, seed=42),\n",
    "               bias_initializer='zeros',\n",
    "               name='conv1'\n",
    "              )(input_img)\n",
    "pool1 = MaxPool2D(pool_size=(2, 2),\n",
    "                  strides=(2, 2),\n",
    "                  padding='valid',\n",
    "                  name='maxpool1'\n",
    "                 )(conv1)\n",
    "conv2 = Conv2D(filters=50,\n",
    "               kernel_size=(5, 5),\n",
    "               strides=(1, 1),\n",
    "               kernel_initializer=RandomNormal(mean=0.0, stddev=0.001, seed=42),\n",
    "               bias_initializer='zeros',\n",
    "               name='conv2'\n",
    "              )(pool1)\n",
    "pool2 = MaxPool2D(pool_size=(2, 2),\n",
    "                  strides=(2, 2),\n",
    "                  padding='valid',\n",
    "                  name='maxpool2'\n",
    "                 )(conv2)\n",
    "\n",
    "flatt = Flatten(name='flatt')(pool2)\n",
    "\n",
    "# inner product 1\n",
    "dense1 = Dense(units=500,\n",
    "              activation='relu',\n",
    "              kernel_initializer=glorot_normal(seed=42),\n",
    "              bias_initializer='zeros',\n",
    "              name='ip1'\n",
    "             )(flatt)\n",
    "\n",
    "# concatanate with head pose\n",
    "cat = Concatenate(axis=-1, name='concat')([dense1, input_pose])\n",
    "\n",
    "dropout = Dropout(rate=0.1)(cat)\n",
    "\n",
    "# inner product 2\n",
    "dense2 = Dense(units=2,\n",
    "              kernel_initializer=glorot_normal(seed=42),\n",
    "              bias_initializer='zeros',\n",
    "              name='ip2'\n",
    "             )(dropout)\n",
    "\n",
    "### OPTIMIZER ###\n",
    "adam = Adam(lr=1e-5)\n",
    "\n",
    "### CALLBACKS ###\n",
    "tbCallBack = TensorBoard(log_dir='./log',\n",
    "                     histogram_freq=0,\n",
    "                     write_graph=True,\n",
    "                     write_images=True)\n",
    "checkpoint = ModelCheckpoint('./checkpoints/', monitor='val_loss', period=10)\n",
    "earlystop = EarlyStopping(monitor='val_loss', min_delta=1e-5, patience=10)\n",
    "\n",
    "### COMPILE MODEL ###\n",
    "model = Model([input_img, input_pose], dense2)\n",
    "model.compile(optimizer=adam, loss=angle_loss, metrics=[angle_accuracy])"
   ]
  },
  {
   "cell_type": "markdown",
   "metadata": {},
   "source": [
    "### Train"
   ]
  },
  {
   "cell_type": "code",
   "execution_count": 73,
   "metadata": {},
   "outputs": [
    {
     "name": "stdout",
     "output_type": "stream",
     "text": [
      "Train on 341852 samples, validate on 85464 samples\n",
      "Epoch 1/1\n",
      "341852/341852 [==============================] - 1942s 6ms/step - loss: 0.0076 - angle_accuracy: 5.9948 - val_loss: 0.0051 - val_angle_accuracy: 4.7894\n"
     ]
    },
    {
     "data": {
      "text/plain": [
       "<keras.callbacks.History at 0x12a485240>"
      ]
     },
     "execution_count": 73,
     "metadata": {},
     "output_type": "execute_result"
    }
   ],
   "source": [
    "model.fit(x=[image[index_train], pose[index_train]], y=gaze[index_train],\n",
    "          batch_size=500,\n",
    "          verbose=1,\n",
    "          epochs=1,\n",
    "          validation_data=([image[index_test], pose[index_test]], gaze[index_test]),\n",
    "          callbacks=[tbCallBack])"
   ]
  },
  {
   "cell_type": "code",
   "execution_count": 91,
   "metadata": {},
   "outputs": [],
   "source": [
    "model.save('./model_epoch1.h5')"
   ]
  },
  {
   "cell_type": "code",
   "execution_count": null,
   "metadata": {},
   "outputs": [],
   "source": [
    "from keras.models import load_model\n",
    "\n",
    "scope_dict = {'angle_loss': angle_loss, 'angle_accuracy': angle_accuracy}\n",
    "\n",
    "model = load_model('./model_epoch1.h5', custom_objects=scope_dict, compile=True)\n",
    "\n",
    "# TODO estimator class or simple function?"
   ]
  },
  {
   "cell_type": "code",
   "execution_count": 48,
   "metadata": {},
   "outputs": [],
   "source": [
    "def estimate_gaze(eye_image, head_pose):\n",
    "    eye_image = eye_image.reshape((-1, 36, 60, 1))\n",
    "    head_pose = head_pose.reshape((-1, 3))\n",
    "    print(head_pose.shape)\n",
    "    head_pose = pose3Dto2D(head_pose)\n",
    "    gaze = model.predict([eye_image, head_pose])\n",
    "    return gaze2Dto3D(gaze)"
   ]
  },
  {
   "cell_type": "code",
   "execution_count": 49,
   "metadata": {},
   "outputs": [],
   "source": [
    "eye_image = image[0]\n",
    "head_pose = pose[0]"
   ]
  },
  {
   "cell_type": "code",
   "execution_count": 51,
   "metadata": {},
   "outputs": [
    {
     "name": "stdout",
     "output_type": "stream",
     "text": [
      "(1, 3)\n"
     ]
    },
    {
     "data": {
      "text/plain": [
       "array([[-0.04846469,  0.0699095 , -0.99637532]], dtype=float32)"
      ]
     },
     "execution_count": 51,
     "metadata": {},
     "output_type": "execute_result"
    }
   ],
   "source": [
    "estimate_gaze(eye_image, head_pose)"
   ]
  },
  {
   "cell_type": "code",
   "execution_count": null,
   "metadata": {},
   "outputs": [],
   "source": []
  }
 ],
 "metadata": {
  "hide_input": false,
  "kernelspec": {
   "display_name": "Python 3",
   "language": "python",
   "name": "python3"
  },
  "language_info": {
   "codemirror_mode": {
    "name": "ipython",
    "version": 3
   },
   "file_extension": ".py",
   "mimetype": "text/x-python",
   "name": "python",
   "nbconvert_exporter": "python",
   "pygments_lexer": "ipython3",
   "version": "3.6.3"
  }
 },
 "nbformat": 4,
 "nbformat_minor": 2
}
